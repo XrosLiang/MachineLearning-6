{
 "cells": [
  {
   "cell_type": "code",
   "execution_count": 9,
   "metadata": {},
   "outputs": [
    {
     "name": "stdout",
     "output_type": "stream",
     "text": [
      "U: \n[[-0.50808988  0.75840491  0.40824829]\n [-0.57477696  0.05444977 -0.81649658]\n [-0.64146404 -0.64950536  0.40824829]]\nnew X: \n[[-4.66490277 -0.26835694  2.04124145]\n [-4.22349998 -1.73071699  2.85773803]\n [-5.10630557  1.19400311  1.22474487]\n [-4.86496402 -2.38022235  3.26598632]\n [-4.46484153  1.84350847  0.81649658]]\na: \n[-4.66490277 -0.26835694  2.04124145]\n5.099019513592785\n"
     ]
    }
   ],
   "source": [
    "import numpy as np\n",
    "import numpy.linalg as lg\n",
    "\n",
    "X = np.array([\n",
    "    [3, 1, 4],\n",
    "    [2, 0, 5],\n",
    "    [4, 2, 3],\n",
    "    [2, 0, 6],\n",
    "    [4, 2, 2]\n",
    "])\n",
    "A = np.array([\n",
    "    [2, 0, 1, 7],\n",
    "    [2, 0, 1, 8],\n",
    "    [2, 0, 1, 9]\n",
    "])\n",
    "U, _, _ = lg.svd(A)\n",
    "print(\"U: \")\n",
    "print(U)\n",
    "new_X = X.dot(U)\n",
    "print(\"new X: \")\n",
    "print(new_X)\n",
    "print(\"a: \")\n",
    "a = np.mean(new_X, 0)\n",
    "print(a)\n",
    "print(lg.norm(a))"
   ]
  },
  {
   "cell_type": "code",
   "execution_count": 11,
   "metadata": {
    "scrolled": true
   },
   "outputs": [
    {
     "name": "stdout",
     "output_type": "stream",
     "text": [
      "0.3112781244591327\n"
     ]
    }
   ],
   "source": [
    "import math\n",
    "res = - (0.5 * math.log(2/3, 2) + 1/4 * math.log(1/3, 2))\n",
    "print(1- res)"
   ]
  },
  {
   "cell_type": "code",
   "execution_count": null,
   "metadata": {
    "scrolled": true
   },
   "outputs": [
    {
     "name": "stdout",
     "output_type": "stream",
     "text": [
      "0.3112781244591327\n"
     ]
    }
   ],
   "source": [
    "\n"
   ]
  },
  {
   "cell_type": "code",
   "execution_count": null,
   "metadata": {},
   "outputs": [],
   "source": [
    ""
   ]
  },
  {
   "cell_type": "code",
   "execution_count": null,
   "metadata": {},
   "outputs": [],
   "source": [
    ""
   ]
  },
  {
   "cell_type": "code",
   "execution_count": null,
   "metadata": {},
   "outputs": [],
   "source": [
    ""
   ]
  },
  {
   "cell_type": "code",
   "execution_count": null,
   "metadata": {},
   "outputs": [],
   "source": []
  }
 ],
 "metadata": {
  "kernelspec": {
   "display_name": "Python 3",
   "language": "python",
   "name": "python3"
  }
 },
 "nbformat": 4,
 "nbformat_minor": 2
}
